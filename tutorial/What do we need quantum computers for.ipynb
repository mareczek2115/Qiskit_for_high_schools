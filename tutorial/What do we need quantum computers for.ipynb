{
 "cells": [
  {
   "cell_type": "markdown",
   "metadata": {},
   "source": [
    "### What do we need quantum computers for?\n",
    "Classical supercomputers may seem to be unbeatable in performing certain tasks and doing huge calculations, but soon, they are going to be surpassed by quantum computers. Why? Because operating on qubits gives more possibilities than on regular bits, all thanks to the superposition. Imagine a maze with four different paths. A normal computer would try every route one by one. Quantum computer would check all of them at once! Now let's move on to the bits. Two bits can be in four possible states (00, 01, 10, and 11), but only one of them at any time. In a quantum computer, two qubits can represent the same four states. Because of superposition, the qubits can represent all four combinations at the same time. From a mathematical point of view, we can say that if you have “n” qubits, you can simultaneously represent $2^n$ states."
   ]
  },
  {
   "cell_type": "markdown",
   "metadata": {},
   "source": [
    "### What will Quantum Computers be used for?\n",
    " - **Artificial Intelligence** <br/> The primary application for quantum computing is artificial intelligence (AI). Artificial Intelligence is based on the principle of learning from experience. The more information the computer receives, the more accurate the AI becomes. This process repeats itself until the computer shows \"intelligence\". This feedback is based on the calculation of the probabilities of many possible choices, so AI is an ideal candidate for quantum computing. <br/>\n",
    " - **Molecular Modeling** <br/> Chemical reactions are quantum in nature as they form highly entangled quantum superposition states. It is so complex that only the simplest molecules can be analyzed by today’s digital computers. But fully-developed quantum computers would be able to simulate them.\n",
    " - **Financial Modeling** <br/> Modern markets are some of the most complicated systems. Despite many scientific and mathematical tools to understand this, still, there’s no controlled environment in which to run experiments. One of the main advantages of financial quantum computing is that the randomness inherent to quantum computers is congruent to the nature of financial markets. Investors often wish to evaluate the distribution of outcomes under an extremely large number of scenarios generated at random.\n",
    " - **Weather Forecasting** <br/> The ability to better predict the weather would have enormous benefit to many fields, not to mention more time to take cover from disasters. As quantum researcher pointed out, “Using a classical computer to perform such analysis might take longer than it takes the actual weather to evolve!”. Quantum computers also could help build better climate models that could give us more insight into how humans are influencing the environment."
   ]
  },
  {
   "cell_type": "markdown",
   "metadata": {},
   "source": [
    "As you can see, quantum computers can be used in many useful ways. However, those new applications will most likely be invented with advances in quantum algorithms."
   ]
  }
 ],
 "metadata": {
  "kernelspec": {
   "display_name": "Python 3",
   "language": "python",
   "name": "python3"
  },
  "language_info": {
   "codemirror_mode": {
    "name": "ipython",
    "version": 3
   },
   "file_extension": ".py",
   "mimetype": "text/x-python",
   "name": "python",
   "nbconvert_exporter": "python",
   "pygments_lexer": "ipython3",
   "version": "3.8.5"
  }
 },
 "nbformat": 4,
 "nbformat_minor": 4
}
