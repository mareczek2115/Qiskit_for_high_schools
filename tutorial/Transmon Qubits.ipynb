{
 "cells": [
  {
   "cell_type": "markdown",
   "metadata": {},
   "source": [
    "### Transmon Qubits\n",
    "Modern quantum computers are based on **transmons**. We're about to explain what transmons are."
   ]
  },
  {
   "cell_type": "markdown",
   "metadata": {},
   "source": [
    "Transmon are superconducting qubits, which consist of a capacitor and a Josephson coil. The qubit scheme is as follows:\n",
    "![image](https://aip.scitation.org/action/showOpenGraphArticleImage?doi=10.1063/1.5089550&id=images/medium/1.5089550.figures.online.highlight_f1.jpg)"
   ]
  },
  {
   "cell_type": "markdown",
   "metadata": {},
   "source": [
    "Two layouts are shown above. On the left we see LC circuit which is simply an harmonic oscillator with the same distance between all quantum energy levels. On the right however (with coil replaced by Josephson junction) the amount of energy required differs depending on the state."
   ]
  },
  {
   "cell_type": "markdown",
   "metadata": {},
   "source": [
    "A physical system representing qubit can have many states, which are not limited to just |0> and |1>. Energy is needed to change the state of the qubit. In quantum mechanics, an exact amount of energy is needed to influence the state of qubit (in our case it's about 240 mK to move from |0> to |1>). We can say that qubits are non-harmonic oscillators, meaning that the energy levels are unevenly spaced apart. Thanks to this when we excite the qubit from |0> to |1> it will not be excited to any higher states. The picture above shows this phenomenon well."
   ]
  },
  {
   "cell_type": "markdown",
   "metadata": {},
   "source": [
    "It is worth adding that the difference between the levels does not depend on the conditions under which qubit works. It is worth adding that the difference between the levels does not depend on the conditions under which qubit works. The qubit must be cooled down to about 20 mK, as the thermal energy can cause the qubit to change its state on its own."
   ]
  },
  {
   "cell_type": "markdown",
   "metadata": {},
   "source": [
    "An example of a 5-qubit processor is shown below:"
   ]
  },
  {
   "attachments": {},
   "cell_type": "markdown",
   "metadata": {},
   "source": [
    "![image](https://cdn.arstechnica.net/wp-content/uploads/2016/05/Q5-640x657.jpg)"
   ]
  }
 ],
 "metadata": {
  "kernelspec": {
   "display_name": "Python 3",
   "language": "python",
   "name": "python3"
  },
  "language_info": {
   "codemirror_mode": {
    "name": "ipython",
    "version": 3
   },
   "file_extension": ".py",
   "mimetype": "text/x-python",
   "name": "python",
   "nbconvert_exporter": "python",
   "pygments_lexer": "ipython3",
   "version": "3.8.5"
  }
 },
 "nbformat": 4,
 "nbformat_minor": 4
}
