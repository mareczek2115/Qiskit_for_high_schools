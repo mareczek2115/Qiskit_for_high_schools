{
 "cells": [
  {
   "cell_type": "markdown",
   "metadata": {},
   "source": [
    "### Transmon Qubits\n",
    "Modern quantum computers are based on **transmons**. We're about to explain what transmons are."
   ]
  },
  {
   "cell_type": "markdown",
   "metadata": {},
   "source": [
    "Transmon are superconducting qubits, which consist of a capacitor and a Josephson coil. The qubit scheme is as follows:"
   ]
  },
  {
   "cell_type": "markdown",
   "metadata": {},
   "source": [
    "A qubit can have many values, it is not limited to 0 and 1. Energy is needed to change the state of the qubit. In quantum mechanics, an exact amount of energy is needed to influence the state of qubit (in our case it's about 240 mK). We can say that qubits are non-harmonic oscillators, meaning that the energy levels are unevenly spaced apart. It allows a qubit to reach state 1, but never reach more because it won't get the right amount of energy. The picture below shows this phenomenon well:"
   ]
  },
  {
   "cell_type": "markdown",
   "metadata": {},
   "source": [
    "It is worth adding that the difference between the levels does not depend on the conditions under which qubit works. It is worth adding that the difference between the levels does not depend on the conditions under which qubit works. The qubit must be cooled down to about 20 mK, as the thermal energy can cause the qubit to change its state on its own."
   ]
  },
  {
   "cell_type": "code",
   "execution_count": null,
   "metadata": {},
   "outputs": [],
   "source": []
  }
 ],
 "metadata": {
  "kernelspec": {
   "display_name": "Python 3",
   "language": "python",
   "name": "python3"
  },
  "language_info": {
   "codemirror_mode": {
    "name": "ipython",
    "version": 3
   },
   "file_extension": ".py",
   "mimetype": "text/x-python",
   "name": "python",
   "nbconvert_exporter": "python",
   "pygments_lexer": "ipython3",
   "version": "3.8.5"
  }
 },
 "nbformat": 4,
 "nbformat_minor": 4
}
