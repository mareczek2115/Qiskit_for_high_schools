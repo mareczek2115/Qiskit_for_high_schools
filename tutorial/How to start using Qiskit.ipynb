{
 "cells": [
  {
   "cell_type": "markdown",
   "metadata": {},
   "source": [
    "### How to program quantum computers?\n",
    "Every computer needs software to function properly. It is no different with quantum computers. Many interesting frameworks have been created to support them, but they are constantly being developed. Below we are going to present some of the more popular ones."
   ]
  },
  {
   "cell_type": "markdown",
   "metadata": {},
   "source": [
    "### Few softwares for programming Quantum Computers\n",
    "\n",
    "- **Qiskit** <br/> Qiskit is an open-source framework for quantum computing. Provides tools to create, manipulate, and run quantum programs on prototype quantum devices in IBM Quantum Experience or on simulators on a local computer. The basic version of Qiskit uses the Python programming language. You can run programs on real quantum computers [here](https://quantum-computing.ibm.com/).\n",
    "- **Microsoft Quantum Development Kit** <br/> Microsoft QDK is a full-featured development kit for Q # that can be used with popular tools and languages to build quantum applications that can be run in a variety of environments. Q # programs can be run as a console application, or with Jupyter notebooks, or with a Python or .NET host program. To read more about Microsoft QDK click this [link](https://www.microsoft.com/en-us/quantum/development-kit).\n",
    "- **Project Q** <br/> ProjectQ is an open-source effort for quantum computing. This software allows users to implement their quantum programs in Python using a powerful and intuitive syntax. Next, it converts them to any type of back-end which later can be run on the classical simulators or quantum computers through IBM Quantum Experience. To read more about ProjectQ click [here](https://github.com/ProjectQ-Framework/ProjectQ)."
   ]
  },
  {
   "cell_type": "markdown",
   "metadata": {},
   "source": [
    "In our project we will work on Qiskit, so now we will move on to its installation."
   ]
  },
  {
   "cell_type": "markdown",
   "metadata": {},
   "source": [
    "### Installing Qiskit\n",
    "The installation of Qiskit is a very simple process. For our project, we need a software called 'Anaconda'. Anaconda is a free and open-source distribution of the Python and R programming languages for scientific computing. You can download it from [here](https://www.anaconda.com/products/individual). We are going to be operating on the Anaconda's built-in console that can be found after installation by typing 'anaconda prompt' in the search bar. To check if installation was successful type this command."
   ]
  },
  {
   "cell_type": "markdown",
   "metadata": {},
   "source": [
    "```\n",
    "python --version\n",
    "```"
   ]
  },
  {
   "cell_type": "markdown",
   "metadata": {},
   "source": [
    "The code will be written in Jupyter Notebook (an online interactive computing environment for creating documents that may contain code, text, mathematical expressions, etc.) To install Jupyter Notebook, type the following command and wait for it to be installed."
   ]
  },
  {
   "cell_type": "markdown",
   "metadata": {},
   "source": [
    "```\n",
    "pip install notebook\n",
    "```"
   ]
  },
  {
   "cell_type": "markdown",
   "metadata": {},
   "source": [
    "Then we want to add Qiskit, we install it in the same way."
   ]
  },
  {
   "cell_type": "markdown",
   "metadata": {},
   "source": [
    "```\n",
    "pip install qiskit\n",
    "```"
   ]
  },
  {
   "cell_type": "markdown",
   "metadata": {},
   "source": [
    "To open our Jupyter Notebook, just enter its name in terminal."
   ]
  },
  {
   "cell_type": "markdown",
   "metadata": {},
   "source": [
    "```\n",
    "jupyter notebook\n",
    "```"
   ]
  },
  {
   "cell_type": "markdown",
   "metadata": {},
   "source": [
    "What you will see, is the directory we ran jupyter from in the terminal. You can create empty folder to start writing programs in Qiskit. To add new file we have to click 'new' in the upper right corner and choose 'Python 3'."
   ]
  },
  {
   "cell_type": "markdown",
   "metadata": {},
   "source": [
    "In this part of the guide, we will only check if the Qiskit module has been installed correctly. To check this, you need to import the entire Qiskit library. Note whether you have selected the cell type 'code' in the toolbar. To execute the command use the 'shift + enter' shortcut."
   ]
  },
  {
   "cell_type": "code",
   "execution_count": 1,
   "metadata": {},
   "outputs": [],
   "source": [
    "from qiskit import *"
   ]
  },
  {
   "cell_type": "markdown",
   "metadata": {},
   "source": [
    "This allows us to use different functions or classes. At the moment, we only want to check that we are running on the current version of Qiskit. The command to check the version looks like this:"
   ]
  },
  {
   "cell_type": "code",
   "execution_count": 2,
   "metadata": {},
   "outputs": [
    {
     "data": {
      "text/plain": [
       "{'qiskit-terra': '0.16.0',\n",
       " 'qiskit-aer': '0.7.0',\n",
       " 'qiskit-ignis': '0.5.0',\n",
       " 'qiskit-ibmq-provider': '0.11.0',\n",
       " 'qiskit-aqua': '0.8.0',\n",
       " 'qiskit': '0.23.0'}"
      ]
     },
     "execution_count": 2,
     "metadata": {},
     "output_type": "execute_result"
    }
   ],
   "source": [
    "qiskit.__qiskit_version__"
   ]
  },
  {
   "cell_type": "markdown",
   "metadata": {},
   "source": [
    "At the very bottom is the Qiskit version. The other names are the versions of libraries needed for proper operation. If it looks like this (yours may be newer or older), it means that you have done the tutorial flawlessly. In the next chapter, we will introduce some basic functions and algorithms."
   ]
  }
 ],
 "metadata": {
  "kernelspec": {
   "display_name": "Python 3",
   "language": "python",
   "name": "python3"
  },
  "language_info": {
   "codemirror_mode": {
    "name": "ipython",
    "version": 3
   },
   "file_extension": ".py",
   "mimetype": "text/x-python",
   "name": "python",
   "nbconvert_exporter": "python",
   "pygments_lexer": "ipython3",
   "version": "3.8.5"
  }
 },
 "nbformat": 4,
 "nbformat_minor": 4
}
