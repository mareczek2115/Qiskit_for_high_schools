{
 "cells": [
  {
   "cell_type": "markdown",
   "metadata": {},
   "source": [
    "## How many qubits existing quantum computers have\n",
    "### Backends\n",
    "We can easily get more detailed informations about backends that we can use to run our algorithms, for example number of qubits. Let's do it."
   ]
  },
  {
   "cell_type": "code",
   "execution_count": 1,
   "metadata": {},
   "outputs": [
    {
     "name": "stderr",
     "output_type": "stream",
     "text": [
      "C:\\Users\\Marek\\anaconda3\\lib\\site-packages\\qiskit\\providers\\ibmq\\ibmqfactory.py:192: UserWarning: Timestamps in IBMQ backend properties, jobs, and job results are all now in local time instead of UTC.\n",
      "  warnings.warn('Timestamps in IBMQ backend properties, jobs, and job results '\n"
     ]
    }
   ],
   "source": [
    "from qiskit import IBMQ\n",
    "provider = IBMQ.load_account()"
   ]
  },
  {
   "cell_type": "code",
   "execution_count": 2,
   "metadata": {},
   "outputs": [
    {
     "name": "stdout",
     "output_type": "stream",
     "text": [
      "ibmq_santiago                ibmq_athens                  ibmq_armonk\n",
      "-------------                -----------                  -----------\n",
      "Num. Qubits:  5              Num. Qubits:  5              Num. Qubits:  1\n",
      "Pending Jobs: 0              Pending Jobs: 0              Pending Jobs: 0\n",
      "Least busy:   True           Least busy:   False          Least busy:   False\n",
      "Operational:  True           Operational:  True           Operational:  True\n",
      "Avg. T1:      163.1          Avg. T1:      81.2           Avg. T1:      157.5\n",
      "Avg. T2:      145.5          Avg. T2:      84.1           Avg. T2:      222.6\n",
      "\n",
      "\n",
      "\n",
      "ibmq_valencia                ibmq_ourense                 ibmq_vigo\n",
      "-------------                ------------                 ---------\n",
      "Num. Qubits:  5              Num. Qubits:  5              Num. Qubits:  5\n",
      "Pending Jobs: 78             Pending Jobs: 316            Pending Jobs: 813\n",
      "Least busy:   False          Least busy:   False          Least busy:   False\n",
      "Operational:  True           Operational:  True           Operational:  True\n",
      "Avg. T1:      103.0          Avg. T1:      108.6          Avg. T1:      109.1\n",
      "Avg. T2:      62.9           Avg. T2:      61.6           Avg. T2:      76.2\n",
      "\n",
      "\n",
      "\n",
      "ibmq_16_melbourne            ibmqx2\n",
      "-----------------            ------\n",
      "Num. Qubits:  15             Num. Qubits:  5\n",
      "Pending Jobs: 1456           Pending Jobs: 1118\n",
      "Least busy:   False          Least busy:   False\n",
      "Operational:  True           Operational:  True\n",
      "Avg. T1:      55.2           Avg. T1:      59.0\n",
      "Avg. T2:      59.4           Avg. T2:      41.3\n",
      "\n",
      "\n",
      "\n"
     ]
    }
   ],
   "source": [
    "from qiskit.tools.monitor import backend_overview\n",
    "backend_overview()"
   ]
  },
  {
   "cell_type": "markdown",
   "metadata": {},
   "source": [
    "As you can see, we can find out about how many qubits are in the device, how many pending jobs are, and other useful info."
   ]
  },
  {
   "cell_type": "markdown",
   "metadata": {},
   "source": [
    "### Qubits Roadmap\n",
    "You know very well that nowadays quantum computers are not as useful as they will be in the future. Below you can see IBM roadmap of how the number of qubits in IBM's machines will increase."
   ]
  },
  {
   "cell_type": "markdown",
   "metadata": {},
   "source": [
    "<img src=\"https://tinyurl.com/y599ezu3\" />"
   ]
  },
  {
   "cell_type": "markdown",
   "metadata": {},
   "source": [
    "### Moore's Law\n",
    "Moore's law assumes that the number of transistors in an integrated circuit increases in the following years in line with the exponential trend (it doubles at nearly equal intervals). \n",
    "This number was then corrected and it is now assumed that the number of transistors in microprocessors has doubled every 24 months for many years. By analogy, Moore's law also applies to many other parameters of computer hardware, such as the capacity of hard drives or the size of the main memory."
   ]
  },
  {
   "cell_type": "markdown",
   "metadata": {},
   "source": [
    "<img src=\"https://tinyurl.com/yyc5hvk2\" />"
   ]
  },
  {
   "cell_type": "markdown",
   "metadata": {},
   "source": [
    "### Quantum Volume\n",
    "Quantum volume is a metric that measures the performance of a quantum computer's capabilities and error rates. Quantum volume is a single number designed to show all-round performance. IBM introduced the Quantum Volume metric because a classical computer’s transistor count and a quantum computer’s quantum bit count aren’t the same. Generally, the larger the quantum volume, the more complex the problems a quantum computer can solve. In August 2020 IBM announced it had also achieved a volume of 64 in a 27-qubit system. Below are show quantum volume's factors."
   ]
  },
  {
   "cell_type": "markdown",
   "metadata": {},
   "source": [
    "<img src=\"https://tinyurl.com/y4826d6h\" />"
   ]
  },
  {
   "cell_type": "markdown",
   "metadata": {},
   "source": [
    "Referring to Moore's law, the number of qubits in quantum processors, even doubling every year, also enters the list of the above-mentioned rising values of other computer things. In the chart below you can see how it has grown so far and how the application programs will develop."
   ]
  },
  {
   "cell_type": "markdown",
   "metadata": {},
   "source": [
    "<img src=\"https://tinyurl.com/yykshuf9\" />"
   ]
  },
  {
   "cell_type": "markdown",
   "metadata": {},
   "source": [
    "<img src=\"https://tinyurl.com/y6tm8o3s\" />"
   ]
  },
 ],
 "metadata": {
  "kernelspec": {
   "display_name": "Python 3",
   "language": "python",
   "name": "python3"
  },
  "language_info": {
   "codemirror_mode": {
    "name": "ipython",
    "version": 3
   },
   "file_extension": ".py",
   "mimetype": "text/x-python",
   "name": "python",
   "nbconvert_exporter": "python",
   "pygments_lexer": "ipython3",
   "version": "3.8.3"
  }
 },
 "nbformat": 4,
 "nbformat_minor": 4
}
