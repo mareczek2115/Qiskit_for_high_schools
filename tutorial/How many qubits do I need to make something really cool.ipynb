{
 "cells": [
  {
   "cell_type": "markdown",
   "metadata": {},
   "source": [
    "## How many qubits do I need to make something cool?\n",
    "As was mentioned in the previous chapter, qubits are currently imperfect and we strive to reach perfect qubits. But can we make something useful instead of only algorithms? Of course, but before that, we have to achieve Quantum Advantage, also referred to as quantum supremacy."
   ]
  },
  {
   "cell_type": "markdown",
   "metadata": {},
   "source": [
    "### What is Quantum Advantage?"
   ]
  },
  {
   "cell_type": "markdown",
   "metadata": {},
   "source": [
    "Quantum Advantage means that a quantum computer can perform a computation significantly faster than even the best classical computer or no classical computer may be able to perform the computation at all. In general, the computational complexity of an algorithm on a quantum computer grows significantly more slowly than for the best comparable algorithm on the best classical computer as the size of the input or complexity of the problem to be solved grows — Big-O for a quantum algorithm on a quantum computer is much smaller than Big-O for the best algorithm on a classical computer."
   ]
  },
  {
   "cell_type": "markdown",
   "metadata": {},
   "source": [
    "<img src=\"https://tinyurl.com/y5b7batf\" />"
   ]
  },
  {
   "cell_type": "markdown",
   "metadata": {},
   "source": [
    "### Physical vs. Logical Qubit\n",
    "Same as topologies in network, qubits can be physical and logical. A physical qubit is a physical device that behaves as a two-state quantum system, used as a component of a computer system. A logical qubit is a physical or abstract qubit that performs as specified in a quantum algorithm or quantum circuit subject to unitary transformations, has a long enough coherence time to be usable by quantum logic gates. "
   ]
  },
  {
   "cell_type": "markdown",
   "metadata": {},
   "source": [
    "A logical qubit specifies how a single qubit should behave in a quantum algorithm, subject to quantum logic operations which can be built out of quantum logic gates. However, issues in current technologies preclude single two-state quantum systems, which can be used as physical qubits, from reliably encoding and retaining this information for long enough to be useful. Therefore, current attempts to produce scalable quantum computers require quantum error correction, and multiple (currently many) physical qubits must be used to create a single, error-tolerant logical qubit. To achieve one perfect logical qubit we need several ten physical qubits. To achieve for example 60 perfect logical qubtis we need 3000 qubits, giving a logical qubit 50 physical qubits."
   ]
  }
 ],
 "metadata": {
  "kernelspec": {
   "display_name": "Python 3",
   "language": "python",
   "name": "python3"
  },
  "language_info": {
   "codemirror_mode": {
    "name": "ipython",
    "version": 3
   },
   "file_extension": ".py",
   "mimetype": "text/x-python",
   "name": "python",
   "nbconvert_exporter": "python",
   "pygments_lexer": "ipython3",
   "version": "3.8.3"
  }
 },
 "nbformat": 4,
 "nbformat_minor": 4
}
